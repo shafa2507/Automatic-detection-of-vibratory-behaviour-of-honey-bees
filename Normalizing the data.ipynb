{
 "cells": [
  {
   "cell_type": "code",
   "execution_count": 5,
   "id": "2fb6061a-149e-4911-b4ac-6bf9224fd44d",
   "metadata": {},
   "outputs": [],
   "source": [
    "import numpy\n",
    "import pickle\n",
    "import os"
   ]
  },
  {
   "cell_type": "code",
   "execution_count": 2,
   "id": "5a0b19ff-06a9-47b9-937b-c8e32a6d877a",
   "metadata": {},
   "outputs": [],
   "source": [
    "file = open(\"datasets\\X.pickle\", \"rb\")\n",
    "X = pickle.load(file)\n",
    "file = open(\"datasets\\Y.pickle\", \"rb\")\n",
    "Y = pickle.load(file)"
   ]
  },
  {
   "cell_type": "code",
   "execution_count": 3,
   "id": "3ba8d850-9545-4370-8225-acc3fa6c2222",
   "metadata": {},
   "outputs": [],
   "source": [
    "X=X/255"
   ]
  },
  {
   "cell_type": "code",
   "execution_count": 6,
   "id": "1cb75e58-3896-4c8f-8cb5-7601d9926f8b",
   "metadata": {},
   "outputs": [],
   "source": [
    "folder = \"datasets\"\n",
    "pickle_out = open(os.path.join(folder, \"X_normalized.pickle\"), \"wb\")\n",
    "pickle.dump(X, pickle_out)\n",
    "pickle_out.close()"
   ]
  },
  {
   "cell_type": "code",
   "execution_count": null,
   "id": "375e1441-5ec3-42cd-9530-758a7329a197",
   "metadata": {},
   "outputs": [],
   "source": []
  }
 ],
 "metadata": {
  "kernelspec": {
   "display_name": "Python 3 (ipykernel)",
   "language": "python",
   "name": "python3"
  },
  "language_info": {
   "codemirror_mode": {
    "name": "ipython",
    "version": 3
   },
   "file_extension": ".py",
   "mimetype": "text/x-python",
   "name": "python",
   "nbconvert_exporter": "python",
   "pygments_lexer": "ipython3",
   "version": "3.10.5"
  }
 },
 "nbformat": 4,
 "nbformat_minor": 5
}
