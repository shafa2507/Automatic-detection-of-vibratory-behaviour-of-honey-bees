{
 "cells": [
  {
   "cell_type": "code",
   "execution_count": 1,
   "metadata": {
    "executionInfo": {
     "elapsed": 7727,
     "status": "ok",
     "timestamp": 1656682350597,
     "user": {
      "displayName": "Muhammad Kaleem Ullah",
      "userId": "06065795873767432067"
     },
     "user_tz": -120
    },
    "id": "J6eKPrstTXfa"
   },
   "outputs": [],
   "source": [
    "import tensorflow as tf"
   ]
  },
  {
   "cell_type": "code",
   "execution_count": 2,
   "metadata": {
    "colab": {
     "base_uri": "https://localhost:8080/",
     "height": 35
    },
    "executionInfo": {
     "elapsed": 30,
     "status": "ok",
     "timestamp": 1656682350602,
     "user": {
      "displayName": "Muhammad Kaleem Ullah",
      "userId": "06065795873767432067"
     },
     "user_tz": -120
    },
    "id": "8310rea2TZo4",
    "outputId": "9c77bb36-5f70-4567-fdf8-c77c9fa39ce4"
   },
   "outputs": [
    {
     "data": {
      "application/vnd.google.colaboratory.intrinsic+json": {
       "type": "string"
      },
      "text/plain": [
       "'2.8.2'"
      ]
     },
     "execution_count": 2,
     "metadata": {},
     "output_type": "execute_result"
    }
   ],
   "source": [
    "tf.__version__"
   ]
  },
  {
   "cell_type": "code",
   "execution_count": 3,
   "metadata": {
    "executionInfo": {
     "elapsed": 387,
     "status": "ok",
     "timestamp": 1656682380273,
     "user": {
      "displayName": "Muhammad Kaleem Ullah",
      "userId": "06065795873767432067"
     },
     "user_tz": -120
    },
    "id": "iYZFAorjhxQS"
   },
   "outputs": [],
   "source": [
    "import pickle"
   ]
  },
  {
   "cell_type": "code",
   "execution_count": 4,
   "metadata": {
    "executionInfo": {
     "elapsed": 24576,
     "status": "ok",
     "timestamp": 1656682405366,
     "user": {
      "displayName": "Muhammad Kaleem Ullah",
      "userId": "06065795873767432067"
     },
     "user_tz": -120
    },
    "id": "PFgQEYCMhzd5"
   },
   "outputs": [],
   "source": [
    "file = open(\"/content/drive/MyDrive/Software Project/X_normalized.pickle\", \"rb\")\n",
    "X = pickle.load(file)\n",
    "file = open(\"/content/drive/MyDrive/Software Project/Y.pickle\", \"rb\")\n",
    "Y = pickle.load(file)"
   ]
  },
  {
   "cell_type": "code",
   "execution_count": 14,
   "metadata": {
    "colab": {
     "base_uri": "https://localhost:8080/"
    },
    "executionInfo": {
     "elapsed": 402,
     "status": "ok",
     "timestamp": 1656682554450,
     "user": {
      "displayName": "Muhammad Kaleem Ullah",
      "userId": "06065795873767432067"
     },
     "user_tz": -120
    },
    "id": "vKkhUu8Q4K__",
    "outputId": "c1389bb7-db16-4646-b37b-13911e5b2ed0"
   },
   "outputs": [
    {
     "data": {
      "text/plain": [
       "(1009, 179, 60, 60, 1)"
      ]
     },
     "execution_count": 14,
     "metadata": {},
     "output_type": "execute_result"
    }
   ],
   "source": [
    "X.shape"
   ]
  },
  {
   "cell_type": "code",
   "execution_count": 6,
   "metadata": {
    "colab": {
     "base_uri": "https://localhost:8080/"
    },
    "executionInfo": {
     "elapsed": 332,
     "status": "ok",
     "timestamp": 1656682416025,
     "user": {
      "displayName": "Muhammad Kaleem Ullah",
      "userId": "06065795873767432067"
     },
     "user_tz": -120
    },
    "id": "-aIlimn44QBV",
    "outputId": "d74d7798-7fd9-477a-df6c-0839c9e825e7"
   },
   "outputs": [
    {
     "data": {
      "text/plain": [
       "(1009, 179, 60, 60, 1)"
      ]
     },
     "execution_count": 6,
     "metadata": {},
     "output_type": "execute_result"
    }
   ],
   "source": [
    "X = X.reshape(1009, 179, 60, 60, 1)\n",
    "X.shape"
   ]
  },
  {
   "cell_type": "code",
   "execution_count": 7,
   "metadata": {
    "executionInfo": {
     "elapsed": 529,
     "status": "ok",
     "timestamp": 1656682420215,
     "user": {
      "displayName": "Muhammad Kaleem Ullah",
      "userId": "06065795873767432067"
     },
     "user_tz": -120
    },
    "id": "nSzGhBu5hzyA"
   },
   "outputs": [],
   "source": [
    "from sklearn.model_selection import train_test_split"
   ]
  },
  {
   "cell_type": "code",
   "execution_count": 8,
   "metadata": {
    "executionInfo": {
     "elapsed": 2987,
     "status": "ok",
     "timestamp": 1656682449100,
     "user": {
      "displayName": "Muhammad Kaleem Ullah",
      "userId": "06065795873767432067"
     },
     "user_tz": -120
    },
    "id": "2wA66jxOh0QT"
   },
   "outputs": [],
   "source": [
    "X_train, X_test, Y_train, Y_test = train_test_split(X, Y, test_size = 0.3, random_state = 5)"
   ]
  },
  {
   "cell_type": "code",
   "execution_count": 9,
   "metadata": {
    "colab": {
     "base_uri": "https://localhost:8080/"
    },
    "executionInfo": {
     "elapsed": 429,
     "status": "ok",
     "timestamp": 1656682457799,
     "user": {
      "displayName": "Muhammad Kaleem Ullah",
      "userId": "06065795873767432067"
     },
     "user_tz": -120
    },
    "id": "KWeGcqks0QQX",
    "outputId": "3f904534-20a9-44f5-f305-17db174c3420"
   },
   "outputs": [
    {
     "data": {
      "text/plain": [
       "((706, 179, 60, 60, 1), (706,), (303, 179, 60, 60, 1), (303,))"
      ]
     },
     "execution_count": 9,
     "metadata": {},
     "output_type": "execute_result"
    }
   ],
   "source": [
    "X_train.shape, Y_train.shape, X_test.shape, Y_test.shape"
   ]
  },
  {
   "cell_type": "code",
   "execution_count": 10,
   "metadata": {
    "executionInfo": {
     "elapsed": 414,
     "status": "ok",
     "timestamp": 1656682511555,
     "user": {
      "displayName": "Muhammad Kaleem Ullah",
      "userId": "06065795873767432067"
     },
     "user_tz": -120
    },
    "id": "OvCdhrWwUUk4"
   },
   "outputs": [],
   "source": [
    "from tensorflow.keras import Input\n",
    "from tensorflow.keras.layers import BatchNormalization, Conv2D, MaxPooling2D, Dense, Flatten, LSTM, TimeDistributed, Reshape\n",
    "from tensorflow.keras import Model\n",
    "from tensorflow.keras import callbacks"
   ]
  },
  {
   "cell_type": "code",
   "execution_count": 11,
   "metadata": {
    "colab": {
     "base_uri": "https://localhost:8080/"
    },
    "executionInfo": {
     "elapsed": 16,
     "status": "ok",
     "timestamp": 1656682515067,
     "user": {
      "displayName": "Muhammad Kaleem Ullah",
      "userId": "06065795873767432067"
     },
     "user_tz": -120
    },
    "id": "jyteXL5Phv2n",
    "outputId": "cbf8dbc4-af12-4d16-82d5-f0b4746e8913"
   },
   "outputs": [
    {
     "data": {
      "text/plain": [
       "array([0, 1, 2, 3, 4])"
      ]
     },
     "execution_count": 11,
     "metadata": {},
     "output_type": "execute_result"
    }
   ],
   "source": [
    "import numpy as np\n",
    "np.unique(Y)"
   ]
  },
  {
   "cell_type": "code",
   "execution_count": 12,
   "metadata": {
    "executionInfo": {
     "elapsed": 426,
     "status": "ok",
     "timestamp": 1656682519748,
     "user": {
      "displayName": "Muhammad Kaleem Ullah",
      "userId": "06065795873767432067"
     },
     "user_tz": -120
    },
    "id": "7OB0oVC_zHTI"
   },
   "outputs": [],
   "source": [
    "EPOCHS = 50\n",
    "BATCH_SIZE = 16\n",
    "callbacks_params = [\n",
    "             callbacks.EarlyStopping(monitor='loss', patience=10),\n",
    "             callbacks.ReduceLROnPlateau(verbose=1),\n",
    "             callbacks.ModelCheckpoint('/content/drive/MyDrive/Software Project/weights.{epoch:02d}-{val_loss:.2f}.hdf5', verbose=1),\n",
    "]"
   ]
  },
  {
   "cell_type": "markdown",
   "metadata": {
    "id": "WprHEMVPTexM"
   },
   "source": [
    "### Model Architecture"
   ]
  },
  {
   "cell_type": "code",
   "execution_count": 13,
   "metadata": {
    "executionInfo": {
     "elapsed": 4302,
     "status": "ok",
     "timestamp": 1656682536271,
     "user": {
      "displayName": "Muhammad Kaleem Ullah",
      "userId": "06065795873767432067"
     },
     "user_tz": -120
    },
    "id": "NL1A7mfZTbFV"
   },
   "outputs": [],
   "source": [
    "cnn_input= Input((179, 60, 60, 1))   #Frames,height,width\n",
    "conv1 = TimeDistributed(Conv2D(32, kernel_size=(5,5), activation='relu'))(cnn_input)\n",
    "first_BatchNormalization = BatchNormalization()(conv1)\n",
    "\n",
    "conv2 = TimeDistributed(Conv2D(32, kernel_size=(5,5), activation='relu'))(first_BatchNormalization)\n",
    "second_BatchNormalization = BatchNormalization()(conv2)\n",
    "\n",
    "pool1=TimeDistributed(MaxPooling2D(pool_size=(4,4)))(second_BatchNormalization)\n",
    "flat=TimeDistributed(Flatten())(pool1)\n",
    "cnn_op= TimeDistributed(Dense(100))(flat)\n",
    "\n",
    "lstm = LSTM(128, return_sequences=True, activation='tanh')(cnn_op)\n",
    "dense_layer =TimeDistributed(Dense(100))(lstm)\n",
    "output_layer = Dense(5, activation = \"softmax\")(dense_layer)\n",
    "model = Model(inputs=[cnn_input], outputs=output_layer)"
   ]
  },
  {
   "cell_type": "code",
   "execution_count": null,
   "metadata": {
    "id": "yqf9Hq_aVDQU"
   },
   "outputs": [],
   "source": []
  },
  {
   "cell_type": "code",
   "execution_count": 15,
   "metadata": {
    "executionInfo": {
     "elapsed": 412,
     "status": "ok",
     "timestamp": 1656682596330,
     "user": {
      "displayName": "Muhammad Kaleem Ullah",
      "userId": "06065795873767432067"
     },
     "user_tz": -120
    },
    "id": "SaBgWQEKtlZq"
   },
   "outputs": [],
   "source": [
    "model.compile(optimizer = tf.keras.optimizers.Adam(), loss = tf.keras.losses.CategoricalCrossentropy(), metrics = [tf.keras.metrics.Accuracy()])"
   ]
  },
  {
   "cell_type": "code",
   "execution_count": null,
   "metadata": {
    "id": "N32lvOJVsTac"
   },
   "outputs": [],
   "source": [
    "model.fit(X_train, Y_train, batch_size = BATCH_SIZE, callbacks = callbacks_params, epochs = EPOCHS, verbose = 1)"
   ]
  },
  {
   "cell_type": "code",
   "execution_count": null,
   "metadata": {
    "id": "hno75QN_1-qL"
   },
   "outputs": [],
   "source": []
  }
 ],
 "metadata": {
  "accelerator": "GPU",
  "colab": {
   "authorship_tag": "ABX9TyNMud3bg3wE6HsQUGs1gfyF",
   "collapsed_sections": [],
   "mount_file_id": "1Wu42McDsDziOYWvPXv4YepEtuHami70j",
   "name": "Model.ipynb",
   "provenance": []
  },
  "gpuClass": "standard",
  "kernelspec": {
   "display_name": "Python 3 (ipykernel)",
   "language": "python",
   "name": "python3"
  },
  "language_info": {
   "codemirror_mode": {
    "name": "ipython",
    "version": 3
   },
   "file_extension": ".py",
   "mimetype": "text/x-python",
   "name": "python",
   "nbconvert_exporter": "python",
   "pygments_lexer": "ipython3",
   "version": "3.10.5"
  }
 },
 "nbformat": 4,
 "nbformat_minor": 4
}
