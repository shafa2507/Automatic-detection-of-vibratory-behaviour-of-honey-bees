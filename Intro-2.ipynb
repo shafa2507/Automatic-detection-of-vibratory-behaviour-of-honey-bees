{
 "cells": [
  {
   "cell_type": "code",
   "execution_count": 1,
   "id": "61fefa01-0697-4039-a078-74028004dde5",
   "metadata": {},
   "outputs": [],
   "source": [
    "import pandas as pd"
   ]
  },
  {
   "cell_type": "code",
   "execution_count": 2,
   "id": "f8d024d2-034c-4ab9-9484-e285739fca4a",
   "metadata": {},
   "outputs": [],
   "source": [
    "import pickle\n",
    "import os"
   ]
  },
  {
   "cell_type": "code",
   "execution_count": 3,
   "id": "e813f4a6-bc25-4fe7-969a-1e38d242aa90",
   "metadata": {},
   "outputs": [],
   "source": [
    "import numpy as np\n",
    "import matplotlib.pyplot as plt\n",
    "import cv2"
   ]
  },
  {
   "cell_type": "code",
   "execution_count": 4,
   "id": "52014107-d68c-4fac-945e-3979e5467a84",
   "metadata": {},
   "outputs": [],
   "source": [
    "pickle_file = open(\"datasets\\ground_truth_wdd_angles.pickle\", \"rb\")"
   ]
  },
  {
   "cell_type": "code",
   "execution_count": 5,
   "id": "0a1ff411-d230-4916-a922-fb3457489525",
   "metadata": {},
   "outputs": [],
   "source": [
    "import pathlib\n",
    "temp = pathlib.PosixPath\n",
    "pathlib.PosixPath = pathlib.WindowsPath"
   ]
  },
  {
   "cell_type": "raw",
   "id": "2bf4485a-8b44-442e-89f0-36889cb5650f",
   "metadata": {},
   "source": [
    "data = []\n",
    "while True:\n",
    "    try:\n",
    "        data.append(pickle.load(pickle_file))\n",
    "    except EOFError:\n",
    "        break\n",
    "pickle_file.close()"
   ]
  },
  {
   "cell_type": "code",
   "execution_count": 6,
   "id": "ad57cc70-b450-4868-b683-e3e6d3b17782",
   "metadata": {},
   "outputs": [],
   "source": [
    "data = []\n",
    "data.append(pickle.load(pickle_file))"
   ]
  },
  {
   "cell_type": "markdown",
   "id": "1a60b346-7bd4-4074-be61-2f2ee18da099",
   "metadata": {},
   "source": [
    "### Total number of sequences = 1009"
   ]
  },
  {
   "cell_type": "code",
   "execution_count": 7,
   "id": "e34d3b97-5690-42b9-bec4-f5c1113e8d5f",
   "metadata": {},
   "outputs": [
    {
     "data": {
      "text/plain": [
       "1009"
      ]
     },
     "execution_count": 7,
     "metadata": {},
     "output_type": "execute_result"
    }
   ],
   "source": [
    "count = 0\n",
    "for ids in data[0]:\n",
    "    count += 1\n",
    "count"
   ]
  },
  {
   "cell_type": "raw",
   "id": "330f06d2-a70f-488a-99d3-9d6405567b48",
   "metadata": {},
   "source": [
    "data[0]"
   ]
  },
  {
   "cell_type": "code",
   "execution_count": 8,
   "id": "605de7d5-b5e3-4d8d-a6b3-e9927d236778",
   "metadata": {},
   "outputs": [
    {
     "data": {
      "text/plain": [
       "('activating',\n",
       " 1.88699,\n",
       " WindowsPath('/mnt/curta/storage/beesbook/wdd/wdd_output_2021/cam1/2021/10/2/10/13/13/waggle.json'))"
      ]
     },
     "execution_count": 8,
     "metadata": {},
     "output_type": "execute_result"
    }
   ],
   "source": [
    "data[0][10902373867864485654]"
   ]
  },
  {
   "cell_type": "code",
   "execution_count": 9,
   "id": "3b2a1d3f-f4e0-487b-bf70-0b6b63c6e3a4",
   "metadata": {},
   "outputs": [
    {
     "data": {
      "text/plain": [
       "'activating'"
      ]
     },
     "execution_count": 9,
     "metadata": {},
     "output_type": "execute_result"
    }
   ],
   "source": [
    "data[0][10902373867864485654][0]"
   ]
  },
  {
   "cell_type": "markdown",
   "id": "582f3ed6-7bdc-48f7-9f6d-08e1ff5d49b0",
   "metadata": {},
   "source": [
    "### Path conversion"
   ]
  },
  {
   "cell_type": "code",
   "execution_count": 10,
   "id": "24cef06b-1f2d-46e5-964e-a896c32a1139",
   "metadata": {},
   "outputs": [
    {
     "data": {
      "text/plain": [
       "WindowsPath('/mnt/curta/storage/beesbook/wdd/wdd_output_2021/cam1/2021/10/2/10/13/13/waggle.json')"
      ]
     },
     "execution_count": 10,
     "metadata": {},
     "output_type": "execute_result"
    }
   ],
   "source": [
    "data[0][10902373867864485654][2]"
   ]
  },
  {
   "cell_type": "code",
   "execution_count": 11,
   "id": "a946967d-2407-4b16-b234-6d3e915270df",
   "metadata": {},
   "outputs": [
    {
     "data": {
      "text/plain": [
       "['',\n",
       " 'mnt',\n",
       " 'curta',\n",
       " 'storage',\n",
       " 'beesbook',\n",
       " 'wdd',\n",
       " 'wdd_output_2021',\n",
       " 'cam1',\n",
       " '2021',\n",
       " '10',\n",
       " '2',\n",
       " '10',\n",
       " '13',\n",
       " '13',\n",
       " 'waggle.json']"
      ]
     },
     "execution_count": 11,
     "metadata": {},
     "output_type": "execute_result"
    }
   ],
   "source": [
    "str(data[0][10902373867864485654][2]).split(\"\\\\\")"
   ]
  },
  {
   "cell_type": "code",
   "execution_count": 12,
   "id": "292edacc-e36b-4250-9572-3e5c66bf200e",
   "metadata": {},
   "outputs": [
    {
     "data": {
      "text/plain": [
       "'wdd_output_2021\\\\cam1\\\\2021\\\\10\\\\2\\\\10\\\\13\\\\13'"
      ]
     },
     "execution_count": 12,
     "metadata": {},
     "output_type": "execute_result"
    }
   ],
   "source": [
    "os.path.join(*str(data[0][10902373867864485654][2]).split(\"\\\\\")[6:-1])"
   ]
  },
  {
   "cell_type": "raw",
   "id": "690d4632",
   "metadata": {},
   "source": [
    "pickle_file = open(\"datasets\\ground_truth_wdd_angles.pickle\", \"rb\")\n",
    "new_data = []\n",
    "while True:\n",
    "    try:\n",
    "        new_data.append(pickle.load(pickle_file))\n",
    "    except EOFError:\n",
    "        break\n",
    "new_data[0][10902373867864485654]"
   ]
  },
  {
   "cell_type": "code",
   "execution_count": 13,
   "id": "be81f06d-12d0-4b56-9cc9-4efb3a7af2b3",
   "metadata": {},
   "outputs": [
    {
     "data": {
      "text/plain": [
       "['wdd_output_2021', 'cam0', '2021', '10', '3', '11', '6', '2']"
      ]
     },
     "execution_count": 13,
     "metadata": {},
     "output_type": "execute_result"
    }
   ],
   "source": [
    "path = str(data[0][14315729783549168726][2]).split(\"\\\\\")[6:-1]\n",
    "path"
   ]
  },
  {
   "cell_type": "code",
   "execution_count": 14,
   "id": "b3962883-0473-4c61-9e15-af825e38522d",
   "metadata": {},
   "outputs": [
    {
     "data": {
      "text/plain": [
       "'datasets\\\\wdd_ground_truth\\\\wdd_output_2021\\\\cam0\\\\2021\\\\10\\\\3\\\\11\\\\6\\\\2\\\\images.zip'"
      ]
     },
     "execution_count": 14,
     "metadata": {},
     "output_type": "execute_result"
    }
   ],
   "source": [
    "data_folder = os.path.join(*path)\n",
    "folder_path = os.path.join(\"datasets\\wdd_ground_truth\", data_folder)\n",
    "folder_path = os.path.join(folder_path, \"images.zip\")\n",
    "folder_path"
   ]
  },
  {
   "cell_type": "code",
   "execution_count": 15,
   "id": "dfa31a7f-b112-4441-ab24-f8698213b5ab",
   "metadata": {},
   "outputs": [],
   "source": [
    "image_data_list = []\n",
    "sequence = list(range(1009))\n",
    "sec_data = {}\n",
    "from zipfile import ZipFile\n",
    "import cv2\n",
    "with ZipFile(folder_path, \"r\") as zip_ref:\n",
    "    images = zip_ref.namelist()\n",
    "    for image in images:\n",
    "        ext = os.path.splitext(image)[-1]      #.png\n",
    "        if ext == \".png\" or ext == \".jpg\":\n",
    "            img_data = zip_ref.read(image)\n",
    "            img = cv2.imdecode(np.frombuffer(img_data, np.uint8), 0)\n",
    "            #print(img.shape)\n",
    "            #new_image = cv2.resize(img, (60, 60))\n",
    "            #cv2.imwrite(image, new_image)\n",
    "            img = cv2.resize(img, (60, 60))\n",
    "            image_data_list.append(img)\n",
    "    sec_data[0] = np.array(image_data_list)"
   ]
  },
  {
   "cell_type": "code",
   "execution_count": 16,
   "id": "53d09463-aca9-4d72-b3b7-ff5f943839a4",
   "metadata": {},
   "outputs": [
    {
     "data": {
      "text/plain": [
       "<matplotlib.image.AxesImage at 0x214ebd87eb0>"
      ]
     },
     "execution_count": 16,
     "metadata": {},
     "output_type": "execute_result"
    },
    {
     "data": {
      "image/png": "[encoded data removed]",
      "text/plain": [
       "<Figure size 432x288 with 1 Axes>"
      ]
     },
     "metadata": {
      "needs_background": "light"
     },
     "output_type": "display_data"
    }
   ],
   "source": [
    "import matplotlib.pyplot as plt\n",
    "plt.imshow(np.array(image_data_list)[0])"
   ]
  },
  {
   "cell_type": "code",
   "execution_count": 17,
   "id": "b649b5b2-9c9b-4a72-a202-b849b468b5dc",
   "metadata": {},
   "outputs": [
    {
     "data": {
      "text/plain": [
       "<matplotlib.image.AxesImage at 0x214eee81330>"
      ]
     },
     "execution_count": 17,
     "metadata": {},
     "output_type": "execute_result"
    },
    {
     "data": {
      "image/png": "[encoded data removed]",
      "text/plain": [
       "<Figure size 432x288 with 1 Axes>"
      ]
     },
     "metadata": {
      "needs_background": "light"
     },
     "output_type": "display_data"
    }
   ],
   "source": [
    "plt.imshow(np.array(image_data_list)[0])"
   ]
  },
  {
   "cell_type": "code",
   "execution_count": 18,
   "id": "f09324db-9737-4b86-9435-8c6df5e0f25d",
   "metadata": {},
   "outputs": [],
   "source": [
    "video_0 = np.array(image_data_list)       # class = activating"
   ]
  },
  {
   "cell_type": "code",
   "execution_count": 19,
   "id": "497dcceb",
   "metadata": {},
   "outputs": [
    {
     "data": {
      "text/plain": [
       "(136, 60, 60)"
      ]
     },
     "execution_count": 19,
     "metadata": {},
     "output_type": "execute_result"
    }
   ],
   "source": [
    "video_0.shape"
   ]
  },
  {
   "cell_type": "code",
   "execution_count": 20,
   "id": "c20af269",
   "metadata": {},
   "outputs": [
    {
     "data": {
      "text/plain": [
       "43"
      ]
     },
     "execution_count": 20,
     "metadata": {},
     "output_type": "execute_result"
    }
   ],
   "source": [
    "179 - len(image_data_list)"
   ]
  },
  {
   "cell_type": "code",
   "execution_count": 21,
   "id": "ba36bcef",
   "metadata": {},
   "outputs": [
    {
     "data": {
      "text/plain": [
       "(43, 220, 220)"
      ]
     },
     "execution_count": 21,
     "metadata": {},
     "output_type": "execute_result"
    }
   ],
   "source": [
    "np.zeros((43, 220, 220)).shape"
   ]
  },
  {
   "cell_type": "code",
   "execution_count": 22,
   "id": "51ca4c05",
   "metadata": {},
   "outputs": [],
   "source": [
    "images_after_padding = np.append(np.array(image_data_list), np.zeros((43, 60, 60)), axis = 0)"
   ]
  },
  {
   "cell_type": "code",
   "execution_count": 23,
   "id": "6eb072be",
   "metadata": {},
   "outputs": [
    {
     "data": {
      "text/plain": [
       "(179, 60, 60)"
      ]
     },
     "execution_count": 23,
     "metadata": {},
     "output_type": "execute_result"
    }
   ],
   "source": [
    "images_after_padding.shape"
   ]
  },
  {
   "cell_type": "code",
   "execution_count": 24,
   "id": "184f1428",
   "metadata": {},
   "outputs": [
    {
     "name": "stdout",
     "output_type": "stream",
     "text": [
      "Bytes:  5155200\n",
      "Mega Bytes:  4.9163818359375\n"
     ]
    }
   ],
   "source": [
    "print(\"Bytes: \", images_after_padding.size * images_after_padding.itemsize)\n",
    "print(\"Mega Bytes: \", images_after_padding.size * images_after_padding.itemsize / (np.power(1024, 2)))"
   ]
  },
  {
   "cell_type": "code",
   "execution_count": null,
   "id": "4e9ef949",
   "metadata": {},
   "outputs": [],
   "source": []
  },
  {
   "cell_type": "code",
   "execution_count": 46,
   "id": "90ec3b7b",
   "metadata": {},
   "outputs": [
    {
     "name": "stdout",
     "output_type": "stream",
     "text": [
      "Bytes:  69308800\n",
      "Mega Bytes:  66.0980224609375\n"
     ]
    }
   ],
   "source": [
    "full_length_video = np.zeros((179, 220, 220))\n",
    "print(\"Bytes: \", full_length_video.size * full_length_video.itemsize)\n",
    "print(\"Mega Bytes: \", full_length_video.size * full_length_video.itemsize / (np.power(1024, 2)))"
   ]
  },
  {
   "cell_type": "code",
   "execution_count": 26,
   "id": "ac88f6d0",
   "metadata": {},
   "outputs": [
    {
     "data": {
      "text/plain": [
       "0.0"
      ]
     },
     "execution_count": 26,
     "metadata": {},
     "output_type": "execute_result"
    }
   ],
   "source": [
    "images_after_padding[136][0][0]"
   ]
  },
  {
   "cell_type": "code",
   "execution_count": 27,
   "id": "465f7a6f-aaf8-4e6d-87fd-875783f94a09",
   "metadata": {},
   "outputs": [
    {
     "data": {
      "text/plain": [
       "65"
      ]
     },
     "execution_count": 27,
     "metadata": {},
     "output_type": "execute_result"
    }
   ],
   "source": [
    "np.array(image_data_list)[0][0][0]"
   ]
  },
  {
   "cell_type": "code",
   "execution_count": 28,
   "id": "635e30e3-ec47-42e9-8330-ebbd8376ed3d",
   "metadata": {},
   "outputs": [
    {
     "data": {
      "text/plain": [
       "5"
      ]
     },
     "execution_count": 28,
     "metadata": {},
     "output_type": "execute_result"
    }
   ],
   "source": [
    "num_array = np.array([], ndmin = 5)\n",
    "num_array.ndim"
   ]
  },
  {
   "cell_type": "code",
   "execution_count": 29,
   "id": "daf47eb4-59d0-4c1b-ad14-46890b1b6a91",
   "metadata": {},
   "outputs": [
    {
     "data": {
      "text/plain": [
       "array([0.])"
      ]
     },
     "execution_count": 29,
     "metadata": {},
     "output_type": "execute_result"
    }
   ],
   "source": [
    "num_array = np.append(num_array, 0)\n",
    "num_array"
   ]
  },
  {
   "cell_type": "code",
   "execution_count": 30,
   "id": "24642ff0-f71e-47d8-a172-9e57206fce73",
   "metadata": {},
   "outputs": [
    {
     "data": {
      "text/plain": [
       "array([65], dtype=uint8)"
      ]
     },
     "execution_count": 30,
     "metadata": {},
     "output_type": "execute_result"
    }
   ],
   "source": [
    "np.array(image_data_list)[0][0][0:1][0:1][0:1]"
   ]
  },
  {
   "cell_type": "code",
   "execution_count": 31,
   "id": "f6fb437e-46e6-4572-b609-ef23a0f93d58",
   "metadata": {},
   "outputs": [
    {
     "data": {
      "text/plain": [
       "(136, 60, 60)"
      ]
     },
     "execution_count": 31,
     "metadata": {},
     "output_type": "execute_result"
    }
   ],
   "source": [
    "np.array(image_data_list).shape"
   ]
  },
  {
   "cell_type": "code",
   "execution_count": 32,
   "id": "eaa25665-87c8-4c68-88a0-0b5ad8c06403",
   "metadata": {},
   "outputs": [
    {
     "data": {
      "text/plain": [
       "65"
      ]
     },
     "execution_count": 32,
     "metadata": {},
     "output_type": "execute_result"
    }
   ],
   "source": [
    "image_data_list[0][0, 0]"
   ]
  },
  {
   "cell_type": "raw",
   "id": "2dcf0cbe-3470-421f-ab8b-5dc032cd7534",
   "metadata": {},
   "source": [
    "with zipfile.ZipFile(r'datasets\\wdd_ground_truth\\wdd_output_2021\\cam0\\2021\\9\\8\\9\\18\\5\\images.zip', 'r') as zfile:\n",
    "    data = zfile.read('000.png')\n",
    "\n",
    "new_img = cv2.imdecode(np.frombuffer(data, np.uint8), 1)"
   ]
  },
  {
   "cell_type": "markdown",
   "id": "b3753213",
   "metadata": {},
   "source": [
    "### Finding the maximum frames length from all videos"
   ]
  },
  {
   "cell_type": "code",
   "execution_count": 33,
   "id": "69128293",
   "metadata": {},
   "outputs": [],
   "source": [
    "max_frame_len = 0\n",
    "try:\n",
    "    for ids in data[0]:\n",
    "        image_data_list = []\n",
    "        #print(sequence)\n",
    "        path = str(data[0][ids][2]).split(\"\\\\\")[6:-1]\n",
    "        label = data[0][ids][0]\n",
    "        data_folder = os.path.join(*path)\n",
    "        folder_path = os.path.join(\"datasets\\wdd_ground_truth\", data_folder)\n",
    "        folder_path = os.path.join(folder_path, \"images.zip\")\n",
    "        #image_data_list.append(sequence)\n",
    "        \n",
    "        try:\n",
    "            with ZipFile(folder_path, \"r\") as zip_ref:\n",
    "                images = zip_ref.namelist()\n",
    "                if len(images) > max_frame_len:\n",
    "                    max_frame_len = len(images)\n",
    "        except:\n",
    "            print(\"Error in Retrieving Image data!\")\n",
    "except ValueError:\n",
    "    print(\"Error found in retrieving files path or setting folder path!\")"
   ]
  },
  {
   "cell_type": "code",
   "execution_count": 34,
   "id": "d47ffec6",
   "metadata": {},
   "outputs": [
    {
     "data": {
      "text/plain": [
       "179"
      ]
     },
     "execution_count": 34,
     "metadata": {},
     "output_type": "execute_result"
    }
   ],
   "source": [
    "max_frame_len"
   ]
  },
  {
   "cell_type": "code",
   "execution_count": 37,
   "id": "4beb8c1f",
   "metadata": {},
   "outputs": [],
   "source": [
    "def load_image_data(data):\n",
    "    video_data = np.array([])\n",
    "    video_label = []\n",
    "    IMG_SIZE = 60\n",
    "    seq = 0\n",
    "    try:\n",
    "        for ids in data[0]:\n",
    "            image_data_list = []\n",
    "            #print(sequence)\n",
    "            path = str(data[0][ids][2]).split(\"\\\\\")[6:-1]\n",
    "            label = data[0][ids][0]\n",
    "            data_folder = os.path.join(*path)\n",
    "            folder_path = os.path.join(\"datasets\\wdd_ground_truth\", data_folder)\n",
    "            folder_path = os.path.join(folder_path, \"images.zip\")\n",
    "            #image_data_list.append(sequence)\n",
    "            try:\n",
    "                with ZipFile(folder_path, \"r\") as zip_ref:\n",
    "                    images = zip_ref.namelist()\n",
    "                    for image in images:\n",
    "                        ext = os.path.splitext(image)[-1]      #.png\n",
    "                        if ext == \".png\" or ext == \".jpg\":\n",
    "                            img_data = zip_ref.read(image)\n",
    "                            img = cv2.imdecode(np.frombuffer(img_data, np.uint8), 0)   # '1' for RGB, '0' for grayscale\n",
    "                            img = cv2.resize(img, (60, 60))\n",
    "                            #print(img.shape)\n",
    "                            image_data_list.append(img)\n",
    "            except:\n",
    "                print(\"Error in Retrieving Image data!\")\n",
    "            frame_len_diff = max_frame_len - len(image_data_list)\n",
    "            image_data_after_padding = np.append(np.array(image_data_list), np.zeros((frame_len_diff, IMG_SIZE, IMG_SIZE)),\n",
    "                                                 axis = 0)\n",
    "            if video_data.size == 0:\n",
    "                video_data = image_data_after_padding.reshape(1, max_frame_len, IMG_SIZE, IMG_SIZE).copy()\n",
    "                video_label.append(label)\n",
    "                continue\n",
    "            #video_data = np.append(video_data[seq], image_data_after_padding, axis = 0)\n",
    "            #video_data = np.append(video_data, image_data_after_padding)\n",
    "            video_data = np.append(video_data, image_data_after_padding.reshape(1, max_frame_len, IMG_SIZE, IMG_SIZE), axis = 0)\n",
    "            video_label.append(label)\n",
    "            image_data_after_padding = np.array([])\n",
    "            print(seq)\n",
    "            seq += 1\n",
    "    except ValueError:\n",
    "        print(\"Error found in retrieving files path or setting folder path!\")\n",
    "    return video_data, video_label"
   ]
  },
  {
   "cell_type": "code",
   "execution_count": 38,
   "id": "79b1a98e",
   "metadata": {},
   "outputs": [
    {
     "name": "stdout",
     "output_type": "stream",
     "text": [
      "0\n",
      "1\n",
      "2\n",
      "3\n",
      "4\n",
      "5\n",
      "6\n",
      "7\n",
      "8\n",
      "9\n",
      "10\n",
      "11\n",
      "12\n",
      "13\n",
      "14\n",
      "15\n",
      "16\n",
      "17\n",
      "18\n",
      "19\n",
      "20\n",
      "21\n",
      "22\n",
      "23\n",
      "24\n",
      "25\n",
      "26\n",
      "27\n",
      "28\n",
      "29\n",
      "30\n",
      "31\n",
      "32\n",
      "33\n",
      "34\n",
      "35\n",
      "36\n",
      "37\n",
      "38\n",
      "39\n",
      "40\n",
      "41\n",
      "42\n",
      "43\n",
      "44\n",
      "45\n",
      "46\n",
      "47\n",
      "48\n",
      "49\n",
      "50\n",
      "51\n",
      "52\n",
      "53\n",
      "54\n",
      "55\n",
      "56\n",
      "57\n",
      "58\n",
      "59\n",
      "60\n",
      "61\n",
      "62\n",
      "63\n",
      "64\n",
      "65\n",
      "66\n",
      "67\n",
      "68\n",
      "69\n",
      "70\n",
      "71\n",
      "72\n",
      "73\n",
      "74\n",
      "75\n",
      "76\n",
      "77\n",
      "78\n",
      "79\n",
      "80\n",
      "81\n",
      "82\n",
      "83\n",
      "84\n",
      "85\n",
      "86\n",
      "87\n",
      "88\n",
      "89\n",
      "90\n",
      "91\n",
      "92\n",
      "93\n",
      "94\n",
      "95\n",
      "96\n",
      "97\n",
      "98\n",
      "99\n",
      "100\n",
      "101\n",
      "102\n",
      "103\n",
      "104\n",
      "105\n",
      "106\n",
      "107\n",
      "108\n",
      "109\n",
      "110\n",
      "111\n",
      "112\n",
      "113\n",
      "114\n",
      "115\n",
      "116\n",
      "117\n",
      "118\n",
      "119\n",
      "120\n",
      "121\n",
      "122\n",
      "123\n",
      "124\n",
      "125\n",
      "126\n",
      "127\n",
      "128\n",
      "129\n",
      "130\n",
      "131\n",
      "132\n",
      "133\n",
      "134\n",
      "135\n",
      "136\n",
      "137\n",
      "138\n",
      "139\n",
      "140\n",
      "141\n",
      "142\n",
      "143\n",
      "144\n",
      "145\n",
      "146\n",
      "147\n",
      "148\n",
      "149\n",
      "150\n",
      "151\n",
      "152\n",
      "153\n",
      "154\n",
      "155\n",
      "156\n",
      "157\n",
      "158\n",
      "159\n",
      "160\n",
      "161\n",
      "162\n",
      "163\n",
      "164\n",
      "165\n",
      "166\n",
      "167\n",
      "168\n",
      "169\n",
      "170\n",
      "171\n",
      "172\n",
      "173\n",
      "174\n",
      "175\n",
      "176\n",
      "177\n",
      "178\n",
      "179\n",
      "180\n",
      "181\n",
      "182\n",
      "183\n",
      "184\n",
      "185\n",
      "186\n",
      "187\n",
      "188\n",
      "189\n",
      "190\n",
      "191\n",
      "192\n",
      "193\n",
      "194\n",
      "195\n",
      "196\n",
      "197\n",
      "198\n",
      "199\n",
      "200\n",
      "201\n",
      "202\n",
      "203\n",
      "204\n",
      "205\n",
      "206\n",
      "207\n",
      "208\n",
      "209\n",
      "210\n",
      "211\n",
      "212\n",
      "213\n",
      "214\n",
      "215\n",
      "216\n",
      "217\n",
      "218\n",
      "219\n",
      "220\n",
      "221\n",
      "222\n",
      "223\n",
      "224\n",
      "225\n",
      "226\n",
      "227\n",
      "228\n",
      "229\n",
      "230\n",
      "231\n",
      "232\n",
      "233\n",
      "234\n",
      "235\n",
      "236\n",
      "237\n",
      "238\n",
      "239\n",
      "240\n",
      "241\n",
      "242\n",
      "243\n",
      "244\n",
      "245\n",
      "246\n",
      "247\n",
      "248\n",
      "249\n",
      "250\n",
      "251\n",
      "252\n",
      "253\n",
      "254\n",
      "255\n",
      "256\n",
      "257\n",
      "258\n",
      "259\n",
      "260\n",
      "261\n",
      "262\n",
      "263\n",
      "264\n",
      "265\n",
      "266\n",
      "267\n",
      "268\n",
      "269\n",
      "270\n",
      "271\n",
      "272\n",
      "273\n",
      "274\n",
      "275\n",
      "276\n",
      "277\n",
      "278\n",
      "279\n",
      "280\n",
      "281\n",
      "282\n",
      "283\n",
      "284\n",
      "285\n",
      "286\n",
      "287\n",
      "288\n",
      "289\n",
      "290\n",
      "291\n",
      "292\n",
      "293\n",
      "294\n",
      "295\n",
      "296\n",
      "297\n",
      "298\n",
      "299\n",
      "300\n",
      "301\n",
      "302\n",
      "303\n",
      "304\n",
      "305\n",
      "306\n",
      "307\n",
      "308\n",
      "309\n",
      "310\n",
      "311\n",
      "312\n",
      "313\n",
      "314\n",
      "315\n",
      "316\n",
      "317\n",
      "318\n",
      "319\n",
      "320\n",
      "321\n",
      "322\n",
      "323\n",
      "324\n",
      "325\n",
      "326\n",
      "327\n",
      "328\n",
      "329\n",
      "330\n",
      "331\n",
      "332\n",
      "333\n",
      "334\n",
      "335\n",
      "336\n",
      "337\n",
      "338\n",
      "339\n",
      "340\n",
      "341\n",
      "342\n",
      "343\n",
      "344\n",
      "345\n",
      "346\n",
      "347\n",
      "348\n",
      "349\n",
      "350\n",
      "351\n",
      "352\n",
      "353\n",
      "354\n",
      "355\n",
      "356\n",
      "357\n",
      "358\n",
      "359\n",
      "360\n",
      "361\n",
      "362\n",
      "363\n",
      "364\n",
      "365\n",
      "366\n",
      "367\n",
      "368\n",
      "369\n",
      "370\n",
      "371\n",
      "372\n",
      "373\n",
      "374\n",
      "375\n",
      "376\n",
      "377\n",
      "378\n",
      "379\n",
      "380\n",
      "381\n",
      "382\n",
      "383\n",
      "384\n",
      "385\n",
      "386\n",
      "387\n",
      "388\n",
      "389\n",
      "390\n",
      "391\n",
      "392\n",
      "393\n",
      "394\n",
      "395\n",
      "396\n",
      "397\n",
      "398\n",
      "399\n",
      "400\n",
      "401\n",
      "402\n",
      "403\n",
      "404\n",
      "405\n",
      "406\n",
      "407\n",
      "408\n",
      "409\n",
      "410\n",
      "411\n",
      "412\n",
      "413\n",
      "414\n",
      "415\n",
      "416\n",
      "417\n",
      "418\n",
      "419\n",
      "420\n",
      "421\n",
      "422\n",
      "423\n",
      "424\n",
      "425\n",
      "426\n",
      "427\n",
      "428\n",
      "429\n",
      "430\n",
      "431\n",
      "432\n",
      "433\n",
      "434\n",
      "435\n",
      "436\n",
      "437\n",
      "438\n",
      "439\n",
      "440\n",
      "441\n",
      "442\n",
      "443\n",
      "444\n",
      "445\n",
      "446\n",
      "447\n",
      "448\n",
      "449\n",
      "450\n",
      "451\n",
      "452\n",
      "453\n",
      "454\n",
      "455\n",
      "456\n",
      "457\n",
      "458\n",
      "459\n",
      "460\n",
      "461\n",
      "462\n",
      "463\n",
      "464\n",
      "465\n",
      "466\n",
      "467\n",
      "468\n",
      "469\n",
      "470\n",
      "471\n",
      "472\n",
      "473\n",
      "474\n",
      "475\n",
      "476\n",
      "477\n",
      "478\n",
      "479\n",
      "480\n",
      "481\n",
      "482\n",
      "483\n",
      "484\n",
      "485\n",
      "486\n",
      "487\n",
      "488\n",
      "489\n",
      "490\n",
      "491\n",
      "492\n",
      "493\n",
      "494\n",
      "495\n",
      "496\n",
      "497\n",
      "498\n",
      "499\n",
      "500\n",
      "501\n",
      "502\n",
      "503\n",
      "504\n",
      "505\n",
      "506\n",
      "507\n",
      "508\n",
      "509\n",
      "510\n",
      "511\n",
      "512\n",
      "513\n",
      "514\n",
      "515\n",
      "516\n",
      "517\n",
      "518\n",
      "519\n",
      "520\n",
      "521\n",
      "522\n",
      "523\n",
      "524\n",
      "525\n",
      "526\n",
      "527\n",
      "528\n",
      "529\n",
      "530\n",
      "531\n",
      "532\n",
      "533\n",
      "534\n",
      "535\n",
      "536\n",
      "537\n",
      "538\n",
      "539\n",
      "540\n",
      "541\n",
      "542\n",
      "543\n",
      "544\n",
      "545\n",
      "546\n",
      "547\n",
      "548\n",
      "549\n",
      "550\n",
      "551\n",
      "552\n",
      "553\n",
      "554\n",
      "555\n",
      "556\n",
      "557\n",
      "558\n",
      "559\n",
      "560\n",
      "561\n",
      "562\n",
      "563\n",
      "564\n",
      "565\n",
      "566\n",
      "567\n",
      "568\n",
      "569\n",
      "570\n",
      "571\n",
      "572\n",
      "573\n",
      "574\n",
      "575\n",
      "576\n",
      "577\n",
      "578\n",
      "579\n",
      "580\n",
      "581\n",
      "582\n",
      "583\n",
      "584\n",
      "585\n",
      "586\n",
      "587\n",
      "588\n",
      "589\n",
      "590\n",
      "591\n",
      "592\n",
      "593\n",
      "594\n",
      "595\n",
      "596\n",
      "597\n",
      "598\n",
      "599\n",
      "600\n",
      "601\n",
      "602\n",
      "603\n",
      "604\n",
      "605\n",
      "606\n",
      "607\n",
      "608\n",
      "609\n",
      "610\n",
      "611\n",
      "612\n",
      "613\n",
      "614\n",
      "615\n",
      "616\n",
      "617\n",
      "618\n",
      "619\n",
      "620\n",
      "621\n",
      "622\n",
      "623\n",
      "624\n",
      "625\n",
      "626\n",
      "627\n",
      "628\n",
      "629\n",
      "630\n",
      "631\n",
      "632\n",
      "633\n",
      "634\n",
      "635\n",
      "636\n",
      "637\n",
      "638\n",
      "639\n",
      "640\n",
      "641\n",
      "642\n",
      "643\n",
      "644\n",
      "645\n",
      "646\n",
      "647\n",
      "648\n",
      "649\n",
      "650\n",
      "651\n",
      "652\n",
      "653\n",
      "654\n",
      "655\n",
      "656\n",
      "657\n",
      "658\n",
      "659\n",
      "660\n",
      "661\n",
      "662\n",
      "663\n",
      "664\n",
      "665\n",
      "666\n",
      "667\n",
      "668\n",
      "669\n",
      "670\n",
      "671\n",
      "672\n",
      "673\n",
      "674\n",
      "675\n",
      "676\n",
      "677\n",
      "678\n",
      "679\n",
      "680\n",
      "681\n",
      "682\n",
      "683\n",
      "684\n",
      "685\n",
      "686\n",
      "687\n",
      "688\n",
      "689\n",
      "690\n",
      "691\n",
      "692\n",
      "693\n",
      "694\n",
      "695\n",
      "696\n",
      "697\n",
      "698\n",
      "699\n",
      "700\n",
      "701\n",
      "702\n",
      "703\n",
      "704\n",
      "705\n",
      "706\n",
      "707\n",
      "708\n",
      "709\n",
      "710\n",
      "711\n",
      "712\n",
      "713\n",
      "714\n",
      "715\n",
      "716\n",
      "717\n",
      "718\n",
      "719\n",
      "720\n",
      "721\n",
      "722\n",
      "723\n",
      "724\n",
      "725\n",
      "726\n",
      "727\n",
      "728\n",
      "729\n",
      "730\n",
      "731\n",
      "732\n",
      "733\n",
      "734\n",
      "735\n",
      "736\n",
      "737\n",
      "738\n",
      "739\n",
      "740\n",
      "741\n",
      "742\n",
      "743\n",
      "744\n",
      "745\n",
      "746\n",
      "747\n",
      "748\n",
      "749\n",
      "750\n",
      "751\n",
      "752\n",
      "753\n",
      "754\n",
      "755\n",
      "756\n",
      "757\n",
      "758\n",
      "759\n",
      "760\n",
      "761\n",
      "762\n",
      "763\n",
      "764\n",
      "765\n",
      "766\n",
      "767\n",
      "768\n",
      "769\n",
      "770\n",
      "771\n",
      "772\n",
      "773\n",
      "774\n",
      "775\n",
      "776\n",
      "777\n",
      "778\n",
      "779\n",
      "780\n",
      "781\n",
      "782\n",
      "783\n",
      "784\n",
      "785\n",
      "786\n",
      "787\n",
      "788\n",
      "789\n",
      "790\n",
      "791\n",
      "792\n",
      "793\n",
      "794\n",
      "795\n",
      "796\n",
      "797\n",
      "798\n",
      "799\n",
      "800\n",
      "801\n",
      "802\n",
      "803\n",
      "804\n",
      "805\n",
      "806\n",
      "807\n",
      "808\n",
      "809\n",
      "810\n",
      "811\n",
      "812\n",
      "813\n",
      "814\n",
      "815\n",
      "816\n",
      "817\n",
      "818\n",
      "819\n",
      "820\n",
      "821\n",
      "822\n",
      "823\n",
      "824\n",
      "825\n",
      "826\n",
      "827\n",
      "828\n",
      "829\n",
      "830\n",
      "831\n",
      "832\n",
      "833\n",
      "834\n",
      "835\n",
      "836\n",
      "837\n",
      "838\n",
      "839\n",
      "840\n",
      "841\n",
      "842\n",
      "843\n",
      "844\n",
      "845\n",
      "846\n",
      "847\n",
      "848\n",
      "849\n",
      "850\n",
      "851\n",
      "852\n",
      "853\n",
      "854\n",
      "855\n",
      "856\n",
      "857\n",
      "858\n",
      "859\n",
      "860\n",
      "861\n",
      "862\n",
      "863\n",
      "864\n",
      "865\n",
      "866\n",
      "867\n",
      "868\n",
      "869\n",
      "870\n",
      "871\n",
      "872\n",
      "873\n",
      "874\n",
      "875\n",
      "876\n",
      "877\n",
      "878\n",
      "879\n",
      "880\n",
      "881\n",
      "882\n",
      "883\n",
      "884\n",
      "885\n",
      "886\n",
      "887\n",
      "888\n",
      "889\n",
      "890\n",
      "891\n",
      "892\n",
      "893\n",
      "894\n",
      "895\n",
      "896\n",
      "897\n",
      "898\n",
      "899\n",
      "900\n",
      "901\n",
      "902\n",
      "903\n",
      "904\n",
      "905\n",
      "906\n",
      "907\n",
      "908\n",
      "909\n",
      "910\n",
      "911\n",
      "912\n",
      "913\n",
      "914\n",
      "915\n",
      "916\n",
      "917\n",
      "918\n",
      "919\n",
      "920\n",
      "921\n",
      "922\n",
      "923\n",
      "924\n",
      "925\n",
      "926\n",
      "927\n",
      "928\n",
      "929\n",
      "930\n",
      "931\n",
      "932\n",
      "933\n",
      "934\n",
      "935\n",
      "936\n",
      "937\n",
      "938\n",
      "939\n",
      "940\n",
      "941\n",
      "942\n",
      "943\n",
      "944\n",
      "945\n",
      "946\n",
      "947\n",
      "948\n",
      "949\n",
      "950\n",
      "951\n",
      "952\n",
      "953\n",
      "954\n",
      "955\n",
      "956\n",
      "957\n",
      "958\n",
      "959\n",
      "960\n",
      "961\n",
      "962\n",
      "963\n",
      "964\n",
      "965\n",
      "966\n",
      "967\n",
      "968\n",
      "969\n",
      "970\n",
      "971\n",
      "972\n",
      "973\n",
      "974\n",
      "975\n",
      "976\n",
      "977\n",
      "978\n",
      "979\n",
      "980\n",
      "981\n",
      "982\n",
      "983\n",
      "984\n",
      "985\n",
      "986\n",
      "987\n",
      "988\n",
      "989\n",
      "990\n",
      "991\n",
      "992\n",
      "993\n",
      "994\n",
      "995\n",
      "996\n",
      "997\n",
      "998\n",
      "999\n",
      "1000\n",
      "1001\n",
      "1002\n",
      "1003\n",
      "1004\n",
      "1005\n",
      "1006\n",
      "1007\n"
     ]
    }
   ],
   "source": [
    "videos_data, videos_label = load_image_data(data)"
   ]
  },
  {
   "cell_type": "markdown",
   "id": "d0a0bcdc",
   "metadata": {},
   "source": [
    "### Encoding the target class feature"
   ]
  },
  {
   "cell_type": "code",
   "execution_count": 39,
   "id": "0c97a0a5",
   "metadata": {},
   "outputs": [
    {
     "data": {
      "text/plain": [
       "1009"
      ]
     },
     "execution_count": 39,
     "metadata": {},
     "output_type": "execute_result"
    }
   ],
   "source": [
    "len(videos_label)"
   ]
  },
  {
   "cell_type": "code",
   "execution_count": 59,
   "id": "f8c66e1e",
   "metadata": {},
   "outputs": [
    {
     "data": {
      "text/plain": [
       "['activating',\n",
       " 'other',\n",
       " 'other',\n",
       " 'trembling',\n",
       " 'activating',\n",
       " 'waggle',\n",
       " 'trembling',\n",
       " 'other',\n",
       " 'other',\n",
       " 'activating']"
      ]
     },
     "execution_count": 59,
     "metadata": {},
     "output_type": "execute_result"
    }
   ],
   "source": [
    "videos_label[:10]"
   ]
  },
  {
   "cell_type": "code",
   "execution_count": 40,
   "id": "2ab0f229",
   "metadata": {},
   "outputs": [],
   "source": [
    "from sklearn.preprocessing import LabelEncoder \n",
    "ly = LabelEncoder()\n",
    "y = ly.fit_transform(videos_label)"
   ]
  },
  {
   "cell_type": "code",
   "execution_count": 60,
   "id": "5c72bd7c",
   "metadata": {},
   "outputs": [
    {
     "data": {
      "text/plain": [
       "array([0, 1, 1, 2, 0, 4, 2, 1, 1, 0], dtype=int64)"
      ]
     },
     "execution_count": 60,
     "metadata": {},
     "output_type": "execute_result"
    }
   ],
   "source": [
    "y[:10]"
   ]
  },
  {
   "cell_type": "code",
   "execution_count": 64,
   "id": "94f0e8bb",
   "metadata": {},
   "outputs": [
    {
     "data": {
      "text/plain": [
       "array([0, 0, 0, 0, 0, 0, 0, 0, 0, 0, 0, 0, 0, 0, 0, 0, 0, 0, 0, 0, 0, 0,\n",
       "       0, 0, 0, 0, 0, 0, 0, 0, 0, 0, 0, 0, 0, 0, 0, 0, 0, 0, 0, 0, 0, 0,\n",
       "       0, 0, 0, 0, 0, 0, 0, 0, 0, 0, 0, 0, 0, 0, 0, 0, 0, 0, 0, 0, 0, 0,\n",
       "       0, 0, 0, 0, 0, 0, 0, 0, 0, 0, 0, 0, 0, 0, 0, 0, 0, 0, 0, 0, 0, 0,\n",
       "       0, 0, 0, 0, 0, 0, 0, 0, 0, 0, 0, 0, 0, 0, 0, 0, 0, 0, 0, 0, 0, 0,\n",
       "       0, 0, 0, 0, 0, 0, 0, 0, 0, 0, 0, 0, 0, 0, 0, 0, 0, 0, 0, 0, 0, 0,\n",
       "       0, 0, 0, 0, 0, 0, 0, 0, 0, 0, 0, 0, 0, 0, 0, 0, 0, 0, 0, 0, 0, 0,\n",
       "       0, 0, 0, 0, 0, 0, 0, 0, 0, 0, 0, 0, 0, 0, 0, 0, 0, 0, 0, 0, 0, 0,\n",
       "       0, 0, 0, 0, 0, 0, 0, 0, 0, 0, 0, 0, 0, 0, 0, 0, 0, 0, 0, 0, 0, 0,\n",
       "       0, 0, 0, 0, 0, 0, 0, 0, 0, 0, 0, 0, 0, 0, 0, 0, 0, 0, 0, 0, 0, 0,\n",
       "       0, 0, 0, 0, 0, 0, 0, 0, 0, 0, 0, 0, 0, 0, 0, 0, 0, 0, 0, 0, 0, 0,\n",
       "       0, 0, 0, 0, 0, 0, 0, 0, 0, 0, 0, 0, 0, 0, 0, 0, 0, 0, 0, 0, 0, 0,\n",
       "       0, 0, 0, 0, 0, 0, 0, 0, 0, 0, 0, 0, 0, 0, 0, 0, 0, 0, 0, 0, 0, 0,\n",
       "       0, 0, 0, 0, 0, 0, 0], dtype=int64)"
      ]
     },
     "execution_count": 64,
     "metadata": {},
     "output_type": "execute_result"
    }
   ],
   "source": [
    "y[y == 0]"
   ]
  },
  {
   "cell_type": "code",
   "execution_count": 41,
   "id": "7e1c0cc6",
   "metadata": {},
   "outputs": [
    {
     "data": {
      "text/plain": [
       "(1009, 179, 60, 60)"
      ]
     },
     "execution_count": 41,
     "metadata": {},
     "output_type": "execute_result"
    }
   ],
   "source": [
    "videos_data.shape"
   ]
  },
  {
   "cell_type": "code",
   "execution_count": 45,
   "id": "13abf564",
   "metadata": {},
   "outputs": [
    {
     "data": {
      "text/plain": [
       "(60, 60)"
      ]
     },
     "execution_count": 45,
     "metadata": {},
     "output_type": "execute_result"
    }
   ],
   "source": [
    "videos_data[0][0].shape"
   ]
  },
  {
   "cell_type": "code",
   "execution_count": 47,
   "id": "aa18fe9a",
   "metadata": {},
   "outputs": [
    {
     "data": {
      "text/plain": [
       "(179, 60, 60)"
      ]
     },
     "execution_count": 47,
     "metadata": {},
     "output_type": "execute_result"
    }
   ],
   "source": [
    "videos_data[1].shape"
   ]
  },
  {
   "cell_type": "code",
   "execution_count": 58,
   "id": "b9109b66",
   "metadata": {},
   "outputs": [],
   "source": [
    "count = 0\n",
    "for image in videos_data[1]:\n",
    "    cv2.imwrite(f\"img{count}.PNG\", image)\n",
    "    count += 1"
   ]
  },
  {
   "cell_type": "code",
   "execution_count": 77,
   "id": "b8947220",
   "metadata": {},
   "outputs": [
    {
     "data": {
      "text/plain": [
       "'datasets\\\\ '"
      ]
     },
     "execution_count": 77,
     "metadata": {},
     "output_type": "execute_result"
    }
   ],
   "source": [
    "folder = \"datasets\\ \"\n",
    "folder"
   ]
  },
  {
   "cell_type": "code",
   "execution_count": 79,
   "id": "3d7dd3c3",
   "metadata": {},
   "outputs": [
    {
     "data": {
      "text/plain": [
       "'datasets\\\\new'"
      ]
     },
     "execution_count": 79,
     "metadata": {},
     "output_type": "execute_result"
    }
   ],
   "source": [
    "os.path.join(\"datasets\", \"new\")"
   ]
  },
  {
   "cell_type": "code",
   "execution_count": 68,
   "id": "c895aad7",
   "metadata": {},
   "outputs": [
    {
     "name": "stdout",
     "output_type": "stream",
     "text": [
      "\\\n"
     ]
    }
   ],
   "source": [
    "print(\"\\\\\")"
   ]
  },
  {
   "cell_type": "code",
   "execution_count": 81,
   "id": "d174640d",
   "metadata": {},
   "outputs": [],
   "source": [
    "folder = \"datasets\"\n",
    "pickle_out = open(os.path.join(folder, \"X.pickle\"), \"wb\")\n",
    "pickle.dump(videos_data, pickle_out)\n",
    "pickle_out.close()\n",
    "\n",
    "pickle_out = open(os.path.join(folder, \"Y.pickle\"),\"wb\")\n",
    "pickle.dump(y, pickle_out)\n",
    "pickle_out.close()"
   ]
  },
  {
   "cell_type": "raw",
   "id": "6e910797",
   "metadata": {},
   "source": [
    "def load_image_data(data):\n",
    "    sequence_list = []\n",
    "    sequence = 0\n",
    "    sec_data = {}\n",
    "    try:\n",
    "        for ids in data[0]:\n",
    "            image_data_list = []\n",
    "            #print(sequence)\n",
    "            path = str(data[0][ids][2]).split(\"\\\\\")[6:-1]\n",
    "            label = data[0][ids][0]\n",
    "            data_folder = os.path.join(*path)\n",
    "            folder_path = os.path.join(\"datasets\\wdd_ground_truth\", data_folder)\n",
    "            folder_path = os.path.join(folder_path, \"images.zip\")\n",
    "            #image_data_list.append(sequence)\n",
    "            \n",
    "            try:\n",
    "                with ZipFile(folder_path, \"r\") as zip_ref:\n",
    "                    images = zip_ref.namelist()\n",
    "                    for image in images:\n",
    "                        ext = os.path.splitext(image)[-1]      #.png\n",
    "                        if ext == \".png\" or ext == \".jpg\":\n",
    "                            img_data = zip_ref.read(image)\n",
    "                            img = cv2.imdecode(np.frombuffer(img_data, np.uint8), 0)   # '1' for RGB, '0' for grayscale\n",
    "                            #print(img.shape)\n",
    "                            image_data_list.append(img)\n",
    "            except:\n",
    "                print(\"Error in Retrieving Image data!\")\n",
    "            #print(\"Image Dataset List: \", np.array(image_data_list).shape)\n",
    "            #sequence_list.append(image_data_list)\n",
    "            #print(\"Sequence List After: \", np.array(sequence_list).shape)\n",
    "            sec_data[sequence] = {\"id\": ids,\n",
    "                                  \"data\": image_data_list,\n",
    "                                  \"class\": label}\n",
    "            sequence += 1\n",
    "    except ValueError:\n",
    "        print(\"Error found in retrieving files path or setting folder path!\")\n",
    "    return sec_data"
   ]
  },
  {
   "cell_type": "raw",
   "id": "81e7ee4e",
   "metadata": {},
   "source": [
    "sequence_of_images = load_image_data(data)"
   ]
  },
  {
   "cell_type": "raw",
   "id": "144d3df9",
   "metadata": {},
   "source": [
    "len(sequence_of_images.keys())"
   ]
  },
  {
   "cell_type": "raw",
   "id": "4f65bdf6",
   "metadata": {},
   "source": [
    "sequence_of_images[0][\"class\"]"
   ]
  },
  {
   "cell_type": "raw",
   "id": "e382ca68",
   "metadata": {},
   "source": [
    "video_label = []\n",
    "video_data = np.array([])\n",
    "seq = 0\n",
    "for seq in sequence_of_images:\n",
    "    frame_len_diff = max_frame_len - len(image_data_list)\n",
    "    image_data_after_padding = np.append(np.array(sequence_of_images[0][\"data\"]),np.zeros((frame_len_diff, 220, 220)), axis = 0)\n",
    "    video_data = np.append(video_data, image_data_after_padding)\n",
    "    video_label.append(sequence_of_images[seq][\"class\"])\n",
    "    print(seq)\n",
    "    seq += 1\n",
    "    if seq % 100 == 0:\n",
    "        print(video_data.shape)"
   ]
  },
  {
   "cell_type": "raw",
   "id": "3d322dc3",
   "metadata": {},
   "source": [
    "curr_max"
   ]
  },
  {
   "cell_type": "code",
   "execution_count": null,
   "id": "48f2a279-e61f-4fbb-a92f-9fabc9a42a8d",
   "metadata": {},
   "outputs": [],
   "source": [
    "import pandas as pd\n",
    "pd.DataFrame(sequence_of_images[0])"
   ]
  },
  {
   "cell_type": "code",
   "execution_count": null,
   "id": "f9d5ee52-b4cf-434a-8f2b-146c48d0f812",
   "metadata": {},
   "outputs": [],
   "source": [
    "np.array(image_data_list).shape"
   ]
  },
  {
   "cell_type": "code",
   "execution_count": null,
   "id": "39578c92-e72a-4925-b8a5-f02776ab2626",
   "metadata": {},
   "outputs": [],
   "source": [
    "new_list = []\n",
    "new_list.append(0)\n",
    "new_list.append(1)\n",
    "new_list.append(2)\n",
    "new_list.append(3)\n",
    "new_list.append(4)\n",
    "new_list"
   ]
  },
  {
   "cell_type": "code",
   "execution_count": null,
   "id": "41eda238-c37f-4468-baae-da52e59fd750",
   "metadata": {},
   "outputs": [],
   "source": [
    "new_list"
   ]
  },
  {
   "cell_type": "code",
   "execution_count": null,
   "id": "fb35f0db-1583-4b60-b5a1-79e5983dc861",
   "metadata": {},
   "outputs": [],
   "source": [
    "new_list[0] = [1, 2, 3, 4]"
   ]
  },
  {
   "cell_type": "code",
   "execution_count": null,
   "id": "0927e243-00a6-4821-bc87-e714420731f3",
   "metadata": {},
   "outputs": [],
   "source": [
    "new_list.append(8)\n",
    "new_list"
   ]
  },
  {
   "cell_type": "code",
   "execution_count": null,
   "id": "031c814f-c2de-4ba0-9716-0e1dd602cf35",
   "metadata": {},
   "outputs": [],
   "source": [
    "w = np.array(new_list)\n",
    "w"
   ]
  },
  {
   "cell_type": "code",
   "execution_count": null,
   "id": "42853e47-024f-4a27-b9e2-d661c2f65324",
   "metadata": {},
   "outputs": [],
   "source": [
    "w.shape"
   ]
  },
  {
   "cell_type": "code",
   "execution_count": null,
   "id": "b1d6818f-5523-4b84-bdb7-953e90626ed6",
   "metadata": {},
   "outputs": [],
   "source": [
    "w[w==3]"
   ]
  },
  {
   "cell_type": "code",
   "execution_count": null,
   "id": "e8af13e7-64f8-4921-84d8-98b6b219606b",
   "metadata": {},
   "outputs": [],
   "source": [
    "w = w.astype(int)\n",
    "w"
   ]
  },
  {
   "cell_type": "code",
   "execution_count": null,
   "id": "12f17ad3-9182-4572-b794-5f422595df94",
   "metadata": {},
   "outputs": [],
   "source": [
    "w_list = [[[1, 2], [3, 4]], [[5, 6], [7, 8]]]\n",
    "w_list"
   ]
  },
  {
   "cell_type": "code",
   "execution_count": null,
   "id": "0c010cc0-2d14-47da-86b2-1c60bd4eec88",
   "metadata": {},
   "outputs": [],
   "source": [
    "np.array(w_list).shape"
   ]
  },
  {
   "cell_type": "code",
   "execution_count": null,
   "id": "cbdcebb1-de02-4648-9d40-e785b8b84618",
   "metadata": {},
   "outputs": [],
   "source": [
    "w = list(range(1009))\n",
    "w[0]"
   ]
  },
  {
   "cell_type": "code",
   "execution_count": 110,
   "id": "5c68e70a-577e-481a-85dc-38eef5d7bb2a",
   "metadata": {},
   "outputs": [],
   "source": [
    "vids = np.zeros((179, 10, 10, 10))\n",
    "dt  = np.array([])"
   ]
  },
  {
   "cell_type": "code",
   "execution_count": 111,
   "id": "b832bf37",
   "metadata": {},
   "outputs": [
    {
     "data": {
      "text/plain": [
       "(179000,)"
      ]
     },
     "execution_count": 111,
     "metadata": {},
     "output_type": "execute_result"
    }
   ],
   "source": [
    "dt = np.append(dt, vids)\n",
    "dt.shape"
   ]
  },
  {
   "cell_type": "code",
   "execution_count": null,
   "id": "a1a2158c",
   "metadata": {},
   "outputs": [],
   "source": []
  }
 ],
 "metadata": {
  "kernelspec": {
   "display_name": "Python 3 (ipykernel)",
   "language": "python",
   "name": "python3"
  },
  "language_info": {
   "codemirror_mode": {
    "name": "ipython",
    "version": 3
   },
   "file_extension": ".py",
   "mimetype": "text/x-python",
   "name": "python",
   "nbconvert_exporter": "python",
   "pygments_lexer": "ipython3",
   "version": "3.10.4"
  }
 },
 "nbformat": 4,
 "nbformat_minor": 5
}
